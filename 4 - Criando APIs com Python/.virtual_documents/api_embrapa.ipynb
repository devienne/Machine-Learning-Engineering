import requests
from bs4 import BeautifulSoup
from collections import Counter
import pandas as pd





year = 2018
tab = 'Produção'

if tab == 'Produção':
    opt = 'opt_02'

url = f"http://vitibrasil.cnpuv.embrapa.br/index.php?ano={year}&opcao={opt}"

response = requests.get(url)
response.encoding = 'utf-8'

soup = BeautifulSoup(response.text, 'html.parser')


# Find all <table> elements and print their IDs
table = soup.find("table", class_="tb_base tb_dados")


# Extract rows
rows = table.find_all("tr")

# Extract headers 
headers = [cell.get_text(strip=True) for cell in header_row.find_all("th")]
headers


if not headers:
    headers = [cell.get_text(strip=True) for cell in header_row.find_all("td")]
    data_rows = rows[1:]
else:
    data_rows = rows[1:]


# Extract data
data = []
for row in data_rows:
    cells = [cell.get_text(strip=True) for cell in row.find_all("td")]
    if len(cells) == len(headers):  # keep only complete rows
        data.append(cells)


# Build DataFrame
df = pd.DataFrame(data, columns=headers)

# Show result
print(df.head())


df



