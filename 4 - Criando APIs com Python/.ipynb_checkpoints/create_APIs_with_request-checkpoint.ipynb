{
 "cells": [
  {
   "cell_type": "code",
   "execution_count": 1,
   "id": "e5281d55-0d22-4160-acfa-591a3f660b4b",
   "metadata": {},
   "outputs": [],
   "source": [
    "import requests\n",
    "import pandas as pd"
   ]
  },
  {
   "cell_type": "code",
   "execution_count": 10,
   "id": "85781dd4-95cf-44a5-8bf5-745fd3d65c6e",
   "metadata": {},
   "outputs": [
    {
     "data": {
      "text/plain": [
       "{'userId': 1, 'id': 1, 'title': 'delectus aut autem', 'completed': False}"
      ]
     },
     "execution_count": 10,
     "metadata": {},
     "output_type": "execute_result"
    }
   ],
   "source": [
    "api_url = \"https://jsonplaceholder.typicode.com/todos/1\"\n",
    "response = requests.get(api_url)\n",
    "response.json()"
   ]
  },
  {
   "cell_type": "code",
   "execution_count": 11,
   "id": "f01048bb-f18e-4e3c-8317-1657b6c19a1c",
   "metadata": {},
   "outputs": [
    {
     "data": {
      "text/plain": [
       "200"
      ]
     },
     "execution_count": 11,
     "metadata": {},
     "output_type": "execute_result"
    }
   ],
   "source": [
    "response.status_code  ## http status code"
   ]
  },
  {
   "cell_type": "code",
   "execution_count": 12,
   "id": "6104b6f0-ab47-49d2-b36b-4f5e0c3da61e",
   "metadata": {},
   "outputs": [
    {
     "data": {
      "text/plain": [
       "'application/json; charset=utf-8'"
      ]
     },
     "execution_count": 12,
     "metadata": {},
     "output_type": "execute_result"
    }
   ],
   "source": [
    "response.headers[\"Content-Type\"]  ## response's HTTP headers"
   ]
  },
  {
   "cell_type": "markdown",
   "id": "b68f84c8-3194-42e8-88ad-e3b79888b57a",
   "metadata": {},
   "source": [
    "### POST"
   ]
  },
  {
   "cell_type": "markdown",
   "id": "5603bbc9-6bd2-4155-a4da-3c1d70ff635f",
   "metadata": {},
   "source": [
    "POST can be used to send data to a REST API to create a new resource\n",
    "\n",
    "Let us include a JSON data in the request\n",
    "\n",
    "{\n",
    "\n",
    "    \"userId\": 1,\n",
    "    \n",
    "    \"title\": \"Buy milk\",\n",
    "    \n",
    "    \"completed\": false\n",
    "    \n",
    "}\n"
   ]
  },
  {
   "cell_type": "code",
   "execution_count": 13,
   "id": "a232a1ab-50f4-433d-a496-90ab8616ebc6",
   "metadata": {},
   "outputs": [
    {
     "data": {
      "text/plain": [
       "{'userId': 1, 'title': 'Buy milk', 'completed': False, 'id': 201}"
      ]
     },
     "execution_count": 13,
     "metadata": {},
     "output_type": "execute_result"
    }
   ],
   "source": [
    "api_url = \"https://jsonplaceholder.typicode.com/todos\"\n",
    "todo = {\"userId\": 1, \"title\": \"Buy milk\", \"completed\": False}\n",
    "response = requests.post(api_url, json=todo)\n",
    "response.json()"
   ]
  },
  {
   "cell_type": "code",
   "execution_count": 14,
   "id": "8d133ebd-c0ee-48ea-ad49-1a469adc14f5",
   "metadata": {},
   "outputs": [
    {
     "data": {
      "text/plain": [
       "201"
      ]
     },
     "execution_count": 14,
     "metadata": {},
     "output_type": "execute_result"
    }
   ],
   "source": [
    "response.status_code"
   ]
  },
  {
   "cell_type": "code",
   "execution_count": 16,
   "id": "219f2a09-f74b-4db2-8ca4-2ed41862f76c",
   "metadata": {},
   "outputs": [
    {
     "data": {
      "text/html": [
       "<div>\n",
       "<style scoped>\n",
       "    .dataframe tbody tr th:only-of-type {\n",
       "        vertical-align: middle;\n",
       "    }\n",
       "\n",
       "    .dataframe tbody tr th {\n",
       "        vertical-align: top;\n",
       "    }\n",
       "\n",
       "    .dataframe thead th {\n",
       "        text-align: right;\n",
       "    }\n",
       "</style>\n",
       "<table border=\"1\" class=\"dataframe\">\n",
       "  <thead>\n",
       "    <tr style=\"text-align: right;\">\n",
       "      <th></th>\n",
       "      <th>userId</th>\n",
       "      <th>title</th>\n",
       "      <th>completed</th>\n",
       "      <th>id</th>\n",
       "    </tr>\n",
       "  </thead>\n",
       "  <tbody>\n",
       "    <tr>\n",
       "      <th>0</th>\n",
       "      <td>1</td>\n",
       "      <td>Buy milk</td>\n",
       "      <td>False</td>\n",
       "      <td>201</td>\n",
       "    </tr>\n",
       "  </tbody>\n",
       "</table>\n",
       "</div>"
      ],
      "text/plain": [
       "   userId     title  completed   id\n",
       "0       1  Buy milk      False  201"
      ]
     },
     "execution_count": 16,
     "metadata": {},
     "output_type": "execute_result"
    }
   ],
   "source": [
    "df = pd.DataFrame([response.json()])\n",
    "df"
   ]
  },
  {
   "cell_type": "code",
   "execution_count": null,
   "id": "0d8c73ec-4f7f-4a0f-860c-d9ec9326a01f",
   "metadata": {},
   "outputs": [],
   "source": []
  }
 ],
 "metadata": {
  "kernelspec": {
   "display_name": "Python (rao_magnetite)",
   "language": "python",
   "name": "rao_magnetite"
  },
  "language_info": {
   "codemirror_mode": {
    "name": "ipython",
    "version": 3
   },
   "file_extension": ".py",
   "mimetype": "text/x-python",
   "name": "python",
   "nbconvert_exporter": "python",
   "pygments_lexer": "ipython3",
   "version": "3.10.16"
  }
 },
 "nbformat": 4,
 "nbformat_minor": 5
}
